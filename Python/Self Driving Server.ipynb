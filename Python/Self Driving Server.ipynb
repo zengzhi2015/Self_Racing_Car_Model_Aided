{
 "cells": [
  {
   "cell_type": "code",
   "execution_count": 1,
   "metadata": {},
   "outputs": [
    {
     "name": "stderr",
     "output_type": "stream",
     "text": [
      "Using TensorFlow backend.\n"
     ]
    }
   ],
   "source": [
    "import glob\n",
    "import pickle\n",
    "import numpy as np\n",
    "import pandas as pd\n",
    "from sklearn.utils import shuffle\n",
    "from sklearn.model_selection import train_test_split\n",
    "import tensorflow as tf\n",
    "from keras.layers import Dense\n",
    "from keras.models import Model\n",
    "from keras.layers.core import Flatten\n",
    "from keras.layers.core import Dropout\n",
    "from keras.models import Sequential\n",
    "from keras.models import load_model\n",
    "from keras.layers.convolutional import Conv1D\n",
    "from keras.layers.pooling import MaxPooling1D\n",
    "import matplotlib.pyplot as plt\n",
    "\n",
    "import socket\n",
    "import json\n",
    "from time import sleep"
   ]
  },
  {
   "cell_type": "code",
   "execution_count": 2,
   "metadata": {},
   "outputs": [
    {
     "name": "stderr",
     "output_type": "stream",
     "text": [
      "E:\\Anaconda3\\envs\\tensorflow\\lib\\site-packages\\keras\\models.py:291: UserWarning: Error in loading the saved optimizer state. As a result, your model is starting with a freshly initialized optimizer.\n",
      "  warnings.warn('Error in loading the saved optimizer '\n"
     ]
    }
   ],
   "source": [
    "#model = load_model('record_model.h')\n",
    "model = load_model('best_model.h')"
   ]
  },
  {
   "cell_type": "code",
   "execution_count": null,
   "metadata": {},
   "outputs": [],
   "source": [
    "address=('127.0.0.1',2234)\n",
    "s=socket.socket(socket.AF_INET,socket.SOCK_STREAM)\n",
    "s.connect(address)\n",
    "buffer=''\n",
    "while True:\n",
    "    message = s.recv(2048).decode()\n",
    "    if len(message)>0:\n",
    "        #print(message)\n",
    "        buffer=buffer+message\n",
    "        left_bracket_index=buffer.find('[')\n",
    "        if left_bracket_index<0: # if no '[' is found\n",
    "            buffer='' # Clear the buffer\n",
    "            continue\n",
    "        else:\n",
    "            buffer=buffer[left_bracket_index:] # Clear the chars before '['\n",
    "        right_bracket_index=buffer.find(']')\n",
    "        if right_bracket_index>0: # if ']' is found\n",
    "            data = np.array(json.loads(buffer[0:right_bracket_index+1])) # extract '[...]'\n",
    "            buffer=buffer[right_bracket_index+1:]\n",
    "        else:  # if no ']' is found\n",
    "            continue\n",
    "        if len(data)!=181:\n",
    "            print(data)\n",
    "            s.send(str(0).encode())\n",
    "            continue\n",
    "        data[data>2000]=2000\n",
    "        steering = model.predict(np.expand_dims(np.expand_dims(data, axis=1), axis=0))\n",
    "        s.send(str(steering[0][0]).encode())\n",
    "    else:\n",
    "        sleep(0.01)"
   ]
  },
  {
   "cell_type": "code",
   "execution_count": null,
   "metadata": {
    "collapsed": true
   },
   "outputs": [],
   "source": []
  }
 ],
 "metadata": {
  "kernelspec": {
   "display_name": "Python 3",
   "language": "python",
   "name": "python3"
  },
  "language_info": {
   "codemirror_mode": {
    "name": "ipython",
    "version": 3
   },
   "file_extension": ".py",
   "mimetype": "text/x-python",
   "name": "python",
   "nbconvert_exporter": "python",
   "pygments_lexer": "ipython3",
   "version": "3.5.0"
  }
 },
 "nbformat": 4,
 "nbformat_minor": 2
}
